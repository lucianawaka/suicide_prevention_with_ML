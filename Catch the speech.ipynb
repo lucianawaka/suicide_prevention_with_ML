{
 "cells": [
  {
   "cell_type": "markdown",
   "id": "c1e53280",
   "metadata": {},
   "source": [
    "### Catch speech and convert into text\n",
    "Put the text in the model"
   ]
  },
  {
   "cell_type": "code",
   "execution_count": 44,
   "id": "36cd2ac2",
   "metadata": {},
   "outputs": [],
   "source": [
    "# Libraries\n",
    "# Open the Model\n",
    "import joblib\n",
    "# Transform text in number to fit the model\n",
    "from sklearn.feature_extraction.text import CountVectorizer\n",
    "\n",
    "# Speech and text\n",
    "import speech_recognition\n",
    "import pyttsx3\n"
   ]
  },
  {
   "cell_type": "code",
   "execution_count": 45,
   "id": "8412dbd1",
   "metadata": {},
   "outputs": [],
   "source": [
    "# Load Model\n",
    "model = joblib.load('classifier.pkl')"
   ]
  },
  {
   "cell_type": "code",
   "execution_count": 46,
   "id": "2158784c",
   "metadata": {},
   "outputs": [],
   "source": [
    "def SpeakNow(command):\n",
    "    voice = pyttsx3.init()\n",
    "    voice.say(command)\n",
    "    voice.runAndWait()"
   ]
  },
  {
   "cell_type": "code",
   "execution_count": 47,
   "id": "65ebce13",
   "metadata": {},
   "outputs": [
    {
     "name": "stdout",
     "output_type": "stream",
     "text": [
      "Preparing, wait a minute, please.\n",
      "Speak something...\n",
      "result2:\n",
      "{   'alternative': [   {   'confidence': 0.88850778,\n",
      "                           'transcript': 'hi my friend goodnight'},\n",
      "                       {'transcript': 'hi my friends goodnight'},\n",
      "                       {'transcript': 'hi my friend good night'},\n",
      "                       {'transcript': 'hi my friends good night'},\n",
      "                       {'transcript': \"hi my friend's goodnight\"}],\n",
      "    'final': True}\n",
      "Did you say: hi my friend goodnight\n"
     ]
    }
   ],
   "source": [
    "sr = speech_recognition.Recognizer()\n",
    "\n",
    "with speech_recognition.Microphone() as source:\n",
    "    print('Preparing, wait a minute, please.')\n",
    "    sr.adjust_for_ambient_noise(source, duration=2)\n",
    "    print('Speak something...')\n",
    "    audio = sr.listen(source)\n",
    "    \n",
    "    text = sr.recognize_google(audio)\n",
    "    text = text.lower()\n",
    "    \n",
    "    print(f'Did you say: {text}')\n",
    "    SpeakNow(text)"
   ]
  },
  {
   "cell_type": "code",
   "execution_count": 48,
   "id": "7900866c",
   "metadata": {},
   "outputs": [],
   "source": [
    "text = [text]"
   ]
  },
  {
   "cell_type": "code",
   "execution_count": 49,
   "id": "c4ffa6e7",
   "metadata": {},
   "outputs": [
    {
     "data": {
      "text/plain": [
       "['hi my friend goodnight']"
      ]
     },
     "execution_count": 49,
     "metadata": {},
     "output_type": "execute_result"
    }
   ],
   "source": [
    "text"
   ]
  },
  {
   "cell_type": "code",
   "execution_count": 50,
   "id": "231203e4",
   "metadata": {},
   "outputs": [
    {
     "data": {
      "text/plain": [
       "array(['non-suicide'], dtype='<U11')"
      ]
     },
     "execution_count": 50,
     "metadata": {},
     "output_type": "execute_result"
    }
   ],
   "source": [
    "model.predict(text)"
   ]
  },
  {
   "cell_type": "code",
   "execution_count": null,
   "id": "e50e3bc9",
   "metadata": {},
   "outputs": [],
   "source": []
  }
 ],
 "metadata": {
  "kernelspec": {
   "display_name": "Python 3 (ipykernel)",
   "language": "python",
   "name": "python3"
  },
  "language_info": {
   "codemirror_mode": {
    "name": "ipython",
    "version": 3
   },
   "file_extension": ".py",
   "mimetype": "text/x-python",
   "name": "python",
   "nbconvert_exporter": "python",
   "pygments_lexer": "ipython3",
   "version": "3.9.12"
  }
 },
 "nbformat": 4,
 "nbformat_minor": 5
}
