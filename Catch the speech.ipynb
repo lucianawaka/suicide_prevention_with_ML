{
 "cells": [
  {
   "cell_type": "markdown",
   "id": "43cd4ea4",
   "metadata": {},
   "source": [
    "### Catch speech and convert into text\n",
    "Put the text in the model"
   ]
  },
  {
   "cell_type": "code",
   "execution_count": null,
   "id": "b2992679",
   "metadata": {},
   "outputs": [],
   "source": [
    "# install libs\n",
    "!pip install SpeechRecognition\n",
    "!pip install joblib\n",
    "!pip install pyttsx3\n",
    "!pip install winspeech\n",
    "!pip install pyaudio"
   ]
  },
  {
   "cell_type": "code",
   "execution_count": null,
   "id": "bea5bf48",
   "metadata": {},
   "outputs": [],
   "source": [
    "\n",
    "# Libraries\n",
    "# Open the Model\n",
    "import joblib\n",
    "\n",
    "# Speech and text\n",
    "import speech_recognition\n",
    "import pyttsx3\n"
   ]
  },
  {
   "cell_type": "code",
   "execution_count": null,
   "id": "745b6967",
   "metadata": {},
   "outputs": [],
   "source": [
    "# Load Model\n",
    "model = joblib.load('classifier.pkl')"
   ]
  },
  {
   "cell_type": "code",
   "execution_count": null,
   "id": "c79a086b",
   "metadata": {},
   "outputs": [],
   "source": [
    "def SpeakNow(command):\n",
    "    voice = pyttsx3.init()\n",
    "    voice.say(command)\n",
    "    voice.runAndWait()"
   ]
  },
  {
   "cell_type": "code",
   "execution_count": null,
   "id": "5ebddea5",
   "metadata": {},
   "outputs": [],
   "source": [
    "sr = speech_recognition.Recognizer()\n",
    "\n",
    "with speech_recognition.Microphone() as source:\n",
    "    print('Preparing, wait a minute, please.')\n",
    "    sr.adjust_for_ambient_noise(source, duration=2)\n",
    "    print('Speak something...')\n",
    "    audio = sr.listen(source)\n",
    "    \n",
    "    text = sr.recognize_google(audio)\n",
    "    text = text.lower()\n",
    "    \n",
    "    print(f'Did you say: {text}')\n",
    "    SpeakNow(text)"
   ]
  },
  {
   "cell_type": "markdown",
   "id": "5b446ce5",
   "metadata": {},
   "source": [
    "### Without Pipeline"
   ]
  },
  {
   "cell_type": "code",
   "execution_count": null,
   "id": "96543286",
   "metadata": {},
   "outputs": [],
   "source": [
    "# Lib to transform the text\n",
    "from sklearn.feature_extraction.text import CountVectorizer"
   ]
  },
  {
   "cell_type": "code",
   "execution_count": null,
   "id": "baaeb093",
   "metadata": {},
   "outputs": [],
   "source": [
    "# Instanciate de ContVectorizer\n",
    "vectorizer =  CountVectorizer()\n",
    "# Transform the text in number\n",
    "text_transformed = vectorizer.transform([text])"
   ]
  },
  {
   "cell_type": "markdown",
   "id": "c9500838",
   "metadata": {},
   "source": [
    "### Explanation\n",
    "If you initialize a CounterVectorizer and try to perform a transformation without training.  \n",
    "You will get a NotFittedError exception."
   ]
  },
  {
   "cell_type": "code",
   "execution_count": null,
   "id": "547fd5dc",
   "metadata": {},
   "outputs": [],
   "source": [
    "# Supose to make predictions\n",
    "model.predict(text_transformed)"
   ]
  },
  {
   "cell_type": "markdown",
   "id": "0ff6cbb2",
   "metadata": {},
   "source": [
    "### With Pipeline"
   ]
  },
  {
   "cell_type": "code",
   "execution_count": null,
   "id": "c4c4425e",
   "metadata": {},
   "outputs": [],
   "source": [
    "model.predict([text])"
   ]
  },
  {
   "cell_type": "code",
   "execution_count": null,
   "id": "47fbd506",
   "metadata": {},
   "outputs": [],
   "source": []
  }
 ],
 "metadata": {
  "kernelspec": {
   "display_name": "Python 3 (ipykernel)",
   "language": "python",
   "name": "python3"
  },
  "language_info": {
   "codemirror_mode": {
    "name": "ipython",
    "version": 3
   },
   "file_extension": ".py",
   "mimetype": "text/x-python",
   "name": "python",
   "nbconvert_exporter": "python",
   "pygments_lexer": "ipython3",
   "version": "3.9.12"
  }
 },
 "nbformat": 4,
 "nbformat_minor": 5
}
